{
 "cells": [
  {
   "cell_type": "markdown",
   "id": "a6387b2d-6772-4430-a973-c363ba56c665",
   "metadata": {
    "jp-MarkdownHeadingCollapsed": true
   },
   "source": [
    "<h1>ASTR 3400 Research Methods </h1>\n",
    "<h5> Ella Ho </h5>\n",
    "<h5> Spring 2025 </h5>"
   ]
  },
  {
   "cell_type": "markdown",
   "id": "24b4a445-60ad-4401-88e0-f6e1827f8604",
   "metadata": {},
   "source": [
    "<h1> The Parker Space Probe </h1>"
   ]
  },
  {
   "cell_type": "markdown",
   "id": "c89cf5a1-306e-4cef-8879-4f2160b2a14a",
   "metadata": {},
   "source": [
    "![The Parker Space Probe](https://i0.wp.com/eos.org/wp-content/uploads/2018/08/parker-solar-probe-in-front-of-sun.jpg?fit=820%2C615&ssl=1)"
   ]
  },
  {
   "cell_type": "code",
   "execution_count": null,
   "id": "d35c332c-5100-407f-ae35-62bbd7a9d86f",
   "metadata": {},
   "outputs": [],
   "source": []
  }
 ],
 "metadata": {
  "kernelspec": {
   "display_name": "Python 3 (ipykernel)",
   "language": "python",
   "name": "python3"
  },
  "language_info": {
   "codemirror_mode": {
    "name": "ipython",
    "version": 3
   },
   "file_extension": ".py",
   "mimetype": "text/x-python",
   "name": "python",
   "nbconvert_exporter": "python",
   "pygments_lexer": "ipython3",
   "version": "3.11.11"
  }
 },
 "nbformat": 4,
 "nbformat_minor": 5
}
